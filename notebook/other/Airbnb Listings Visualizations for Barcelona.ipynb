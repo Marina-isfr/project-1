{
 "cells": [
  {
   "cell_type": "markdown",
   "metadata": {},
   "source": [
    "## Analysing Airbnb listings in Barcelona - Visualizing geographical distributed Data"
   ]
  },
  {
   "cell_type": "code",
   "execution_count": 1,
   "metadata": {},
   "outputs": [],
   "source": [
    "# import all necessary libraries for this project\n",
    "\n",
    "import pandas as pd\n",
    "import matplotlib.pyplot as plt\n",
    "import geopandas as gpd\n",
    "import contextily as ctx\n",
    "import numpy as np\n",
    "import json as js"
   ]
  },
  {
   "cell_type": "code",
   "execution_count": null,
   "metadata": {},
   "outputs": [],
   "source": [
    "# The barris file contains geographical information (polygon object) about Barcelona neighborhoods.\n",
    "barris = gpd.read_file(\"Data/barris.geojson\")"
   ]
  },
  {
   "cell_type": "code",
   "execution_count": null,
   "metadata": {},
   "outputs": [],
   "source": [
    "# Plot the graph of the neighborhood to see what we are working with\n",
    "barris.plot(figsize=(10,10), alpha=0.5, edgecolor='b')"
   ]
  },
  {
   "cell_type": "code",
   "execution_count": null,
   "metadata": {},
   "outputs": [],
   "source": [
    "#read listings 24 into a dataframe, hence df24.... lack of a better name\n",
    "df24= pd.read_csv(\"Data/listings_24.csv\")\n",
    "\n",
    "#gdf will be the geo dataframe of the geometry points of listings 24\n",
    "gdf = gpd.GeoDataFrame(df24, geometry=gpd.points_from_xy(df24.longitude, df24.latitude))"
   ]
  },
  {
   "cell_type": "code",
   "execution_count": null,
   "metadata": {},
   "outputs": [],
   "source": [
    "#plot the graphs (or picture)\n",
    "axe = barris.plot(figsize=(10,10), alpha=0.5, edgecolor='b')\n",
    "ax1 = gdf.plot(ax=axe, figsize=(10,10), alpha=0.5, markersize=2.2, edgecolor='r')"
   ]
  },
  {
   "cell_type": "markdown",
   "metadata": {},
   "source": [
    "To make the map look nicer, we add a basemap "
   ]
  },
  {
   "cell_type": "code",
   "execution_count": null,
   "metadata": {},
   "outputs": [],
   "source": [
    "# change the coordinaate reference system so the polygons for both maps march\n",
    "barris = barris.to_crs(epsg=3857)\n",
    "\n",
    "#read in geojson file containing the districts.\n",
    "dists = gpd.read_file(\"Data/districts.geojson\")\n",
    "\n",
    "#Just to experiment a bit, we make the edge of Eixample, a district, red.\n",
    "dists1 = dists[dists[\"NOM\"]=='Eixample']\n",
    "dists1 = dists1.to_crs(epsg=3857)\n",
    "\n",
    "#Plot the maps (or graphs)\n",
    "axe = barris.plot(figsize=(10,10), alpha=0.5, edgecolor='b')\n",
    "ctx.add_basemap(axe)\n",
    "\n",
    "#Use the barris as the axis for this map\n",
    "dists1.plot(ax=axe, figsize=(10,10), alpha=0.6, edgecolor='r')\n"
   ]
  },
  {
   "cell_type": "markdown",
   "metadata": {},
   "source": [
    "#### We have four listings (Listings 24, 30, 33 and 45).\n",
    "For each one, we will calculate the following for Airbnb Entire home/apt room type\n",
    "    - the total number of listings for each neighborhood\n",
    "    - the density of the listings for each neighborhood\n",
    "    - the median price of the listings for each neighborhood\n",
    "**All NaN \"cells\" are replaced with zero"
   ]
  },
  {
   "cell_type": "markdown",
   "metadata": {},
   "source": [
    "#### Area of the Barris neigborhood"
   ]
  },
  {
   "cell_type": "code",
   "execution_count": null,
   "metadata": {},
   "outputs": [],
   "source": [
    "area = barris[['NOM', 'AREA']].sort_values(by='NOM').reset_index()\n",
    "area"
   ]
  },
  {
   "cell_type": "markdown",
   "metadata": {},
   "source": [
    "### Listings 24"
   ]
  },
  {
   "cell_type": "code",
   "execution_count": null,
   "metadata": {},
   "outputs": [],
   "source": [
    "df24= pd.read_csv(\"Data/listings_24.csv\")\n",
    "new_df24 = df24[df24['room_type']==\"Entire home/apt\"]"
   ]
  },
  {
   "cell_type": "code",
   "execution_count": null,
   "metadata": {},
   "outputs": [],
   "source": [
    "list24 = new_df24.groupby([\"neighbourhood\"]).agg(count_col=pd.NamedAgg(column=\"neighbourhood\", aggfunc=\"count\")).reset_index()"
   ]
  },
  {
   "cell_type": "code",
   "execution_count": null,
   "metadata": {},
   "outputs": [],
   "source": [
    "#Density\n",
    "density_24 = list24['count_col']/area['AREA']\n",
    "density_24.fillna(0)"
   ]
  },
  {
   "cell_type": "code",
   "execution_count": null,
   "metadata": {},
   "outputs": [],
   "source": [
    "#Median\n",
    "median_24 = new_df24.groupby([\"neighbourhood\"]).median().reset_index()\n",
    "\n",
    "_24median = pd.DataFrame(median_24[[\"neighbourhood\",\"price\"]])\n",
    "_24median = _24median.rename(columns={'price' : 'price_24'})\n",
    "\n",
    "_24median.fillna(0)"
   ]
  },
  {
   "cell_type": "markdown",
   "metadata": {},
   "source": [
    "\n",
    "### Listing 30"
   ]
  },
  {
   "cell_type": "code",
   "execution_count": null,
   "metadata": {},
   "outputs": [],
   "source": [
    "df30= pd.read_csv(\"Data/listings_30.csv\")\n",
    "new_df30 = df30[df30['room_type']==\"Entire home/apt\"]"
   ]
  },
  {
   "cell_type": "code",
   "execution_count": null,
   "metadata": {},
   "outputs": [],
   "source": [
    "#Total Number\n",
    "list30 = new_df30.groupby([\"neighbourhood\"]).agg(count_col=pd.NamedAgg(column=\"neighbourhood\", aggfunc=\"count\")).reset_index()"
   ]
  },
  {
   "cell_type": "code",
   "execution_count": null,
   "metadata": {},
   "outputs": [],
   "source": [
    "#Density\n",
    "density_30 = list30['count_col']/area['AREA']\n",
    "density_30.fillna(0)"
   ]
  },
  {
   "cell_type": "code",
   "execution_count": null,
   "metadata": {},
   "outputs": [],
   "source": [
    "#Median\n",
    "median30 = new_df30.groupby([\"neighbourhood\"]).median().reset_index()\n",
    "_30median = pd.DataFrame(median30[[\"neighbourhood\",\"price\"]])\n",
    "_30median = _30median.rename(columns={'price' : 'price_30'})\n",
    "_30median.fillna(0)"
   ]
  },
  {
   "cell_type": "markdown",
   "metadata": {},
   "source": [
    "### Listings 33"
   ]
  },
  {
   "cell_type": "code",
   "execution_count": null,
   "metadata": {},
   "outputs": [],
   "source": [
    "#Total Number\n",
    "df33= pd.read_csv(\"Data/listings_33.csv\")\n",
    "new_df33 = df30[df30['room_type']==\"Entire home/apt\"]\n",
    "\n",
    "list33 = new_df33.groupby([\"neighbourhood\"]).agg(count_col=pd.NamedAgg(column=\"neighbourhood\", aggfunc=\"count\")).reset_index()\n",
    "list33.fillna(0)"
   ]
  },
  {
   "cell_type": "code",
   "execution_count": null,
   "metadata": {},
   "outputs": [],
   "source": [
    "#Density\n",
    "density_33 = list33['count_col']/area['AREA']\n",
    "density_33.fillna(0)"
   ]
  },
  {
   "cell_type": "code",
   "execution_count": null,
   "metadata": {},
   "outputs": [],
   "source": [
    "#Median\n",
    "median33 = new_df33.groupby([\"neighbourhood\"]).median().reset_index()\n",
    "median30[\"price\"]\n",
    "_33median = pd.DataFrame(median33[[\"neighbourhood\",\"price\"]])\n",
    "_33median = _33median.rename(columns={'price' : 'price_33'})\n",
    "_33median.fillna(0)"
   ]
  },
  {
   "cell_type": "markdown",
   "metadata": {},
   "source": [
    "### Listing 45"
   ]
  },
  {
   "cell_type": "code",
   "execution_count": null,
   "metadata": {},
   "outputs": [],
   "source": [
    "df45= pd.read_csv(\"Data/listings_45.csv\")\n",
    "new_df45 = df45[df45['room_type']==\"Entire home/apt\"]\n",
    "\n",
    "#Total Number\n",
    "list45 = new_df45.groupby([\"neighbourhood\"]).agg(count_col=pd.NamedAgg(column=\"neighbourhood\", aggfunc=\"count\")).reset_index()\n",
    "list45"
   ]
  },
  {
   "cell_type": "code",
   "execution_count": null,
   "metadata": {},
   "outputs": [],
   "source": [
    "#Density\n",
    "density_45 = list45['count_col']/area['AREA']\n",
    "density_45.fillna(0)"
   ]
  },
  {
   "cell_type": "code",
   "execution_count": null,
   "metadata": {},
   "outputs": [],
   "source": [
    "#Median\n",
    "median45 = new_df45.groupby([\"neighbourhood\"]).median().reset_index()\n",
    "median45\n",
    "_45median = pd.DataFrame(median45[[\"neighbourhood\",\"price\"]])\n",
    "_45median = _45median.rename(columns={'price' : 'price_45'})\n",
    "_45median.fillna(0)"
   ]
  },
  {
   "cell_type": "markdown",
   "metadata": {},
   "source": [
    "### Now we add the densities and prices of the listings we just calculated to the barris dataset"
   ]
  },
  {
   "cell_type": "code",
   "execution_count": null,
   "metadata": {},
   "outputs": [],
   "source": [
    "#create a copy of the barris dataset\n",
    "Neighbourhood2 = barris.copy()"
   ]
  },
  {
   "cell_type": "code",
   "execution_count": null,
   "metadata": {},
   "outputs": [],
   "source": [
    "# Add the new density columns\n",
    "Neighbourhood2[\"density_24\"] = density_24\n",
    "Neighbourhood2[\"density_30\"] = density_30\n",
    "Neighbourhood2[\"density_33\"] = density_33\n",
    "Neighbourhood2[\"density_45\"] = density_45\n"
   ]
  },
  {
   "cell_type": "markdown",
   "metadata": {},
   "source": [
    "**For some reason I have not figured out yet, \n",
    "key_0 column is created everytime I merge the price column to the main dataset, so I run the drop command after every merge**"
   ]
  },
  {
   "cell_type": "code",
   "execution_count": null,
   "metadata": {},
   "outputs": [],
   "source": [
    "Neighbourhood2 = Neighbourhood2.merge(_24median, how='left', left_on=Neighbourhood2[\"NOM\"], right_on= _24median[\"neighbourhood\"])\n",
    "Neighbourhood2.drop(columns=[\"key_0\", \"neighbourhood\"], inplace=True)"
   ]
  },
  {
   "cell_type": "code",
   "execution_count": null,
   "metadata": {},
   "outputs": [],
   "source": [
    "Neighbourhood2 = Neighbourhood2.merge(_30median, how='left', left_on=Neighbourhood2[\"NOM\"], right_on= _30median[\"neighbourhood\"])\n",
    "Neighbourhood2.drop(columns=[\"key_0\", \"neighbourhood\"], inplace=True)"
   ]
  },
  {
   "cell_type": "code",
   "execution_count": null,
   "metadata": {},
   "outputs": [],
   "source": [
    "Neighbourhood2 = Neighbourhood2.merge(_33median, how='left', left_on=Neighbourhood2[\"NOM\"], right_on= _33median[\"neighbourhood\"])\n",
    "Neighbourhood2.drop(columns=[\"key_0\", \"neighbourhood\"], inplace=True)\n"
   ]
  },
  {
   "cell_type": "code",
   "execution_count": null,
   "metadata": {},
   "outputs": [],
   "source": [
    "Neighbourhood2.fillna(value={'density_24' : 0, 'density_30' : 0, 'density_33' : 0,'density_45' : 0,}, inplace=True)\n",
    "Neighbourhood2.fillna(value={'price_24' : 0, 'price_30' : 0, 'price_33' : 0,'price_45' : 0,}, inplace=True)"
   ]
  },
  {
   "cell_type": "markdown",
   "metadata": {},
   "source": [
    "### Now we will visualize the price range or density of the neighborhoods (remember we are visualizing those with room type: \"Entire home/apt\") to see how expensive they are in comparison. We will use a choropleth"
   ]
  },
  {
   "cell_type": "code",
   "execution_count": null,
   "metadata": {},
   "outputs": [],
   "source": [
    "axe = Neighbourhood2.plot(figsize=(10, 10), alpha=0.5, column='price_33', cmap='Reds', vmin=20, vmax=120, legend = True)\n",
    "ctx.add_basemap(axe)"
   ]
  },
  {
   "cell_type": "markdown",
   "metadata": {},
   "source": [
    "### Choropleth maps for all four price columns (listings)"
   ]
  },
  {
   "cell_type": "code",
   "execution_count": null,
   "metadata": {
    "scrolled": true
   },
   "outputs": [],
   "source": [
    "figure, axes = plt.subplots(1,4, figsize=(25,20))\n",
    "\n",
    "Neighbourhood2.plot(ax=axes[0], alpha=0.5, column='price_24', cmap='Reds', vmin=20, vmax=120)\n",
    "Neighbourhood2.plot(ax=axes[1], alpha=0.5, column='price_30', cmap='Reds', vmin=20, vmax=120)\n",
    "Neighbourhood2.plot(ax=axes[2], alpha=0.5, column='price_33', cmap='Reds', vmin=20, vmax=120)\n",
    "Neighbourhood2.plot(ax=axes[3], alpha=0.5, column='price_45', cmap='Reds', vmin=20, vmax=120)\n",
    "\n",
    "axes[0].set_title('Price for listings 24')\n",
    "axes[1].set_title('Price for listings 30')\n",
    "axes[2].set_title('Price for listings 33')\n",
    "axes[3].set_title('Price for listings 45')\n",
    "\n",
    "figure.tight_layout()"
   ]
  }
 ],
 "metadata": {
  "kernelspec": {
   "display_name": "Python 3",
   "language": "python",
   "name": "python3"
  },
  "language_info": {
   "codemirror_mode": {
    "name": "ipython",
    "version": 3
   },
   "file_extension": ".py",
   "mimetype": "text/x-python",
   "name": "python",
   "nbconvert_exporter": "python",
   "pygments_lexer": "ipython3",
   "version": "3.7.4"
  }
 },
 "nbformat": 4,
 "nbformat_minor": 2
}
