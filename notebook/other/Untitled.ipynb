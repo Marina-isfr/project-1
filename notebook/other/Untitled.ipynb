{
 "cells": [
  {
   "cell_type": "code",
   "execution_count": 1,
   "id": "ad4d3000-1a49-4421-acfa-eb27742b0fd7",
   "metadata": {},
   "outputs": [
    {
     "ename": "NameError",
     "evalue": "name 'lol' is not defined",
     "output_type": "error",
     "traceback": [
      "\u001b[0;31m---------------------------------------------------------------------------\u001b[0m",
      "\u001b[0;31mNameError\u001b[0m                                 Traceback (most recent call last)",
      "Cell \u001b[0;32mIn[1], line 3\u001b[0m\n\u001b[1;32m      1\u001b[0m \u001b[38;5;28;01mimport\u001b[39;00m \u001b[38;5;21;01mnumpy\u001b[39;00m \u001b[38;5;28;01mas\u001b[39;00m \u001b[38;5;21;01mnp\u001b[39;00m\n\u001b[0;32m----> 3\u001b[0m \u001b[38;5;28mprint\u001b[39m(\u001b[43mlol\u001b[49m)\n",
      "\u001b[0;31mNameError\u001b[0m: name 'lol' is not defined"
     ]
    }
   ],
   "source": [
    "import numpy as np\n",
    "\n",
    "print(lol)\n"
   ]
  },
  {
   "cell_type": "code",
   "execution_count": null,
   "id": "5c70d861-f635-4976-a13a-9131aec549dd",
   "metadata": {},
   "outputs": [],
   "source": [
    "bcn_df = pd.read_csv('../data/raw/barcelona_listings_kagel.csv')\n",
    "ameError                                 Traceback (most recent call last)\n",
    "Cell In[3], line 1\n",
    "----> 1 bcn_df = pd.read_csv('../data/raw/barcelona_listings_kagel.csv')\n",
    "      2 columns_to_delete = ['listing_url','neighborhood_overview','summary','space','picture_url','host_response_time','host_name','host_url','country', 'host_has_profile_pic', 'neighbourhood','street', 'host_picture_url' ] \n",
    "      3 bcn_df.drop(columns=columns_to_delete, inplace=True)\n",
    "\n",
    "NameError: name 'pd' is not defined\n",
    "\n"
   ]
  },
  {
   "cell_type": "code",
   "execution_count": null,
   "id": "f1c979fc-1377-44ba-889a-fdceb270046f",
   "metadata": {},
   "outputs": [],
   "source": [
    "null_count = df[column_name].isnull().sum()\n",
    "print(f\"Number of null values in '{column_name}': {null_count}\") #there are only 33 so i can delete them,\n",
    "how can you check if for the same row in the column 'first_review', there is a  valid date and if there is replace that null with that date."
   ]
  },
  {
   "cell_type": "code",
   "execution_count": null,
   "id": "df18fce7-93b3-4936-a692-653cb9e0f53b",
   "metadata": {},
   "outputs": [],
   "source": [
    "\n",
    "null_clean_count = df4['cleaning_fee'].isnull().sum()\n",
    "print(f\"Number of null values in 'price': {null_clean_count}\")\n",
    "\n",
    "#for cleaning_fee fill up the null values with the average cleaning fee  looking at the average for f each neighbourhood_cleansed\n",
    "(dont repite the previous code from above just from here)\n",
    "    "
   ]
  },
  {
   "cell_type": "code",
   "execution_count": null,
   "id": "f141f074-f4ae-4646-a8b5-4205a9777865",
   "metadata": {},
   "outputs": [],
   "source": [
    "after doimn this\n",
    "# APPLY DATE TIME FORMATTING\n",
    "df3['host_since'] = pd.to_datetime(bcn_df['host_since'], errors='coerce')\n",
    "# Check for null values in the 'date' column\n",
    "null_dates = df3['host_since'].isnull().sum()\n",
    "print(null_dates)\n",
    "print(df1['host_since'].unique())\n",
    "\n",
    "# CHECK FOR NULLS IN 'host_since' : IF NULL GIVE THE VALUE OF THE COLUMN 'first_review'\n",
    "def fill_host_since_with_first(row):\n",
    "    if pd.isnull(row['host_since']):\n",
    "        return row['first_review']\n",
    "    return row['host_since']\n",
    "\n",
    "df3['host_since'] = df3.apply(fill_host_since_with_first, axis=1)\n",
    "# Check if there are still null values in the 'first_review' column\n",
    "null_host = df3['first_review'].isnull().sum()\n",
    "print(f\"Number of null values in 'first_review' after replacement: {null_host}\")\n",
    "\n",
    "Create a now column named 'host_since_year', extracting the year for frem the values in the column host_since"
   ]
  },
  {
   "cell_type": "code",
   "execution_count": null,
   "id": "b76a31b2-e43c-4eaf-b052-36e756ed357a",
   "metadata": {},
   "outputs": [],
   "source": [
    "fix this code\n",
    "\n",
    "\n",
    "FILL MISSING INFO FOR NUMBER OF BEDROOMS, BEDS AND BATHROOM USING THE MEDIAN\n",
    "\"\"\"\n",
    "\n",
    "df7.room_type.value_counts()\n",
    "df7.drop('room_type', axis=1, inplace=True)\n",
    "for col in ['bathrooms', 'bedrooms', 'beds']:\n",
    "    df7[col].fillna(df7[col].median(), inplace=True)\n",
    "\n",
    "\n",
    "# Handle null values by filling with the mean value of the corresponding 'neighbourhood_cleansed'\n",
    "df7['bathrooms'] = df7.groupby('neighbourhood')['bathrooms'].transform(lambda x: x.fillna(x.mean()))\n",
    "df7['bedrooms'] = df7.groupby('neighbourhood')['bedrooms'].transform(lambda x: x.fillna(x.mean()))\n",
    "df7['beds'] = df7.groupby('neighbourhood')['beds'].transform(lambda x: x.fillna(x.mean()))\n",
    "\n",
    "# Convert columns to integer data type\n",
    "df7['bathrooms'] = df7['bathrooms'].astype(int)\n",
    "df7['bedrooms'] = df7['bedrooms'].astype(int)\n",
    "df7['beds'] = df7['beds'].astype(int)\n",
    "\n",
    "# Check the data types after conversion\n",
    "#print(bcn_df.dtypes)\n",
    "# Check for null values in 'zipcode' after filling\n",
    "null_bath_count_after = df7['bathrooms'].isnull().sum()\n",
    "null_bedro_count_after2 = df7['bedrooms'].isnull().sum()\n",
    "null_bed_count_after3 = df7['beds'].isnull().sum()\n",
    "print(f\"Number of null values in 'zipcode' after filling nulls: {null_bath_count_after}\")\n",
    "print(f\"Number of null values in 'zipcode' after filling nulls: {null_bedro_count_after2}\")\n",
    "print(f\"Number of null values in 'zipcode' after filling nulls: {null_bed_count_after3}\")"
   ]
  },
  {
   "cell_type": "code",
   "execution_count": null,
   "id": "25c38100-1b90-4209-94d3-8b82be406a7d",
   "metadata": {},
   "outputs": [],
   "source": [
    "ivot_room_type =df8.pivot_table(index=\"room_type\", columns=\"neighbourhood_group_cleansed\", values=\"price\", aggfunc='mean')\n",
    "\n",
    "i want a similar display than below, but for county i want to select some values  of the column\n",
    "\n",
    "fig, ax = plt.subplots()\n",
    "#y = grouped_location['VOLUSIA COUNTY']\n",
    "\n",
    "#x = list(grouped_location['Year'].index.values)\n",
    "#y = grouped_location['Year'].iloc[:, 0].value_counts().index.to_list()\n",
    "X_axis = np.arange(len(x))\n",
    "\n",
    "plt.bar(X_axis - 0.4, y1, 0.2, label = 'fall')\n",
    "plt.bar(X_axis - 0.2, y2, 0.2, label = 'spring')\n",
    "plt.bar(X_axis + 0.0, y3, 0.2, label = 'summer')\n",
    "plt.bar(X_axis + 0.2, y4, 0.2, label = 'winter')\n",
    "\n",
    "#ax.set_xticklabels(x,rotation=45)\n",
    "plt.xticks(X_axis, x)\n",
    "plt.xlabel(\"County\")\n",
    "plt.ylabel(\"Total number of incidents\")\n",
    "\n",
    "plt.legend()\n",
    "plt.show()"
   ]
  },
  {
   "cell_type": "code",
   "execution_count": 1,
   "id": "e87197e0-3fd0-40f5-81ee-5080234e6f26",
   "metadata": {},
   "outputs": [
    {
     "ename": "SyntaxError",
     "evalue": "invalid syntax (704283969.py, line 1)",
     "output_type": "error",
     "traceback": [
      "\u001b[0;36m  Cell \u001b[0;32mIn[1], line 1\u001b[0;36m\u001b[0m\n\u001b[0;31m    how can you just get the top 10\u001b[0m\n\u001b[0m        ^\u001b[0m\n\u001b[0;31mSyntaxError\u001b[0m\u001b[0;31m:\u001b[0m invalid syntax\n"
     ]
    }
   ],
   "source": [
    "I like to do the same or a similar code in order to have a new column with the cleaned amenities for my colum 'amenities'\n",
    "    \n",
    "    INPUT:\n",
    "    - row : from dataset having amenities attribute\n",
    "    OUTPUT:    \n",
    "    - list of amenities derived from the value of `amenities` attribute in row\n",
    "\"\"\"\n",
    "def separate_amenities(row):\n",
    "    amenities = row.amenities\n",
    "    list_to_return = []\n",
    "    if (amenities is not None and type(amenities) == str):            \n",
    "        list_to_return = list(map(lambda amenity : amenity.replace(\"\\\"\",\"\").replace(\"{\",\"\").replace(\"}\", \"\"), amenities.split(\",\")))\n",
    "    if '' in list_to_return:\n",
    "        list_to_return.remove('')\n",
    "    return list_to_return\n",
    "s_listings_cleaned[\"amenities_list\"] = s_listings_cleaned.apply(separate_amenities, axis=1)\n",
    "\n",
    "possible_amenities = s_listings_cleaned['amenities_list'].apply(pd.Series).stack().unique()\n",
    "possible_amenities\n",
    "\n",
    " Assigns new boolean attribute to the row based on the presence of that amenity in the list.\n",
    "    Returns updated row with additional attributes corresponding to the amenities added to it.\n",
    "    \n",
    "    INPUT:\n",
    "    - row containing attributes related to the property, including `amenities_list`\n",
    "    OUTPUT:\n",
    "    - row containing newly added boolean attributes indicating the presence of each possible type of amenity in the property\n",
    "\"\"\"\n",
    "def add_amenities_columns (row):\n",
    "    amenities = set(row.amenities_list)\n",
    "    for possible_amenity in possible_amenities:\n",
    "        row[\"amenity_\" + possible_amenity] = possible_amenity in amenities\n",
    "    return row\n",
    "\n",
    "s_listings_cleaned = s_listings_cleaned.apply(add_amenities_columns, axis=1)"
   ]
  },
  {
   "cell_type": "code",
   "execution_count": null,
   "id": "eef9fe27-f075-4169-ab0a-fa9edc65df7e",
   "metadata": {},
   "outputs": [],
   "source": [
    "\n",
    "can you do the following representation for the df of airbnb listing  but each label should be the average value of a  diferent column ( instead of fall will be the average of the column callew cleaning score, instead of sprong location score, \n",
    "and then  the x lable wil be grouped neighbourhood and the y label total score\n",
    "\n",
    "#x = list(grouped_location['Year'].index.values)\n",
    "#y = grouped_location['Year'].iloc[:, 0].value_counts().index.to_list()\n",
    "X_axis = np.arange(len(x))\n",
    "\n",
    "plt.bar(X_axis - 0.4, y1, 0.2, label = 'fall')\n",
    "plt.bar(X_axis - 0.2, y2, 0.2, label = 'spring')\n",
    "plt.bar(X_axis + 0.0, y3, 0.2, label = 'summer')\n",
    "plt.bar(X_axis + 0.2, y4, 0.2, label = 'winter')\n",
    "\n",
    "#ax.set_xticklabels(x,rotation=45)\n",
    "plt.xticks(X_axis, x)\n",
    "plt.xlabel(\"County\")\n",
    "plt.ylabel(\"Total number of incidents\")\n",
    "\n",
    "plt.legend()\n",
    "plt.show()"
   ]
  }
 ],
 "metadata": {
  "kernelspec": {
   "display_name": "venv",
   "language": "python",
   "name": "venv"
  },
  "language_info": {
   "codemirror_mode": {
    "name": "ipython",
    "version": 3
   },
   "file_extension": ".py",
   "mimetype": "text/x-python",
   "name": "python",
   "nbconvert_exporter": "python",
   "pygments_lexer": "ipython3",
   "version": "3.11.7"
  }
 },
 "nbformat": 4,
 "nbformat_minor": 5
}
