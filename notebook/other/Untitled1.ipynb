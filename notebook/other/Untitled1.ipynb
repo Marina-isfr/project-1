{
 "cells": [
  {
   "cell_type": "code",
   "execution_count": 1,
   "id": "6317bd06-6421-4b8b-b4bf-821d402ff047",
   "metadata": {},
   "outputs": [
    {
     "name": "stderr",
     "output_type": "stream",
     "text": [
      "/var/folders/yl/d5x0r6t10l52bms12sy70rzc0000gn/T/ipykernel_42330/2513329601.py:5: DtypeWarning: Columns (27) have mixed types. Specify dtype option on import or set low_memory=False.\n",
      "  bcn_df = pd.read_csv('../data/raw/barcelona_listings_kagel.csv')\n"
     ]
    }
   ],
   "source": [
    "import numpy as np\n",
    "import pandas as pd\n",
    "import matplotlib.pyplot as plt\n",
    "import os\n",
    "bcn_df = pd.read_csv('../data/raw/barcelona_listings_kagel.csv')"
   ]
  },
  {
   "cell_type": "code",
   "execution_count": 6,
   "id": "c7efaadf-62bd-4f3a-b0d5-554414993b62",
   "metadata": {},
   "outputs": [
    {
     "ename": "SyntaxError",
     "evalue": "invalid syntax (2055247532.py, line 1)",
     "output_type": "error",
     "traceback": [
      "\u001b[0;36m  Cell \u001b[0;32mIn[6], line 1\u001b[0;36m\u001b[0m\n\u001b[0;31m    fix this formula\u001b[0m\n\u001b[0m        ^\u001b[0m\n\u001b[0;31mSyntaxError\u001b[0m\u001b[0;31m:\u001b[0m invalid syntax\n"
     ]
    }
   ],
   "source": [
    "\"\"\n",
    "    NUMBER OF LISTINGS AND AVERAGE PRICE PER AREA\n",
    "\"\"\"\n",
    "do the same but instead of average price needs to be 'number of reviews'\n",
    "\n",
    "neighbourhood_df = df8.groupby('area').agg(\n",
    "    number_of_listings=('id', 'size'),\n",
    "    average_price=('price', 'mean')  # Fixed the aggregation function here\n",
    ").reset_index()\n",
    "\n",
    "# Set the area column as the index\n",
    "neighbourhood_df.set_index('area', inplace=True)\n",
    "\n",
    "# Sort the DataFrame by average_price\n",
    "neighbourhood_df_sorted = neighbourhood_df.sort_values('average_price', ascending=False)\n",
    "\n",
    "# Plot number of listings and median price in one bar plot\n",
    "plt.rcParams['font.size'] = 15\n",
    "plt.rcParams['figure.figsize'] = 15,5\n",
    "\n",
    "fig, ax1 = plt.subplots()\n",
    "\n",
    "# Plot number of listings as bar plot\n",
    "neighbourhood_df_sorted['number_of_listings'].plot(kind='bar', ax=ax1, position=0, width=0.4, color='darkgrey', label='Number of Listings')\n",
    "\n",
    "# Create a second y-axis for the average price\n",
    "ax2 = ax1.twinx()\n",
    "neighbourhood_df_sorted['average_price'].plot(kind='bar', ax=ax2, position=1, width=0.4, color='lightgrey', label='Average Price')\n",
    "\n",
    "# Set the labels and title\n",
    "ax1.set_xlabel('Area')\n",
    "ax1.set_ylabel('Number of Listings', color='black')\n",
    "ax2.set_ylabel('Average Price', color='black')\n",
    "ax1.set_xticklabels(neighbourhood_df_sorted.index, rotation=90)\n",
    "plt.title('Number of Listings and Average Price by Area')\n",
    "\n",
    "# Combine legends\n",
    "lines_1, labels_1 = ax1.get_legend_handles_labels()\n",
    "lines_2, labels_2 = ax2.get_legend_handles_labels()\n",
    "ax1.legend(lines_1 + lines_2, labels_1 + labels_2, loc='lower left', bbox_to_anchor=(2, 1))\n",
    "\n",
    "plt.show()"
   ]
  },
  {
   "cell_type": "code",
   "execution_count": 5,
   "id": "6a9740c1-9a63-4c69-85ed-533ae99c7b86",
   "metadata": {},
   "outputs": [
    {
     "ename": "SyntaxError",
     "evalue": "invalid syntax (2197686021.py, line 1)",
     "output_type": "error",
     "traceback": [
      "\u001b[0;36m  Cell \u001b[0;32mIn[5], line 1\u001b[0;36m\u001b[0m\n\u001b[0;31m    change size of the writting and bar plots to grey\u001b[0m\n\u001b[0m           ^\u001b[0m\n\u001b[0;31mSyntaxError\u001b[0m\u001b[0;31m:\u001b[0m invalid syntax\n"
     ]
    }
   ],
   "source": [
    " in dark grey\n",
    "# Calculate the average price per neighbourhood_group_cleansed\n",
    "ice = df8.groupby('area')['total_tourist_attractions'].count().head(10).sort_values()\n",
    "\n",
    "# Get the neighbourhood groups and their average prices\n",
    "x = ice.index.to_list()\n",
    "y = ice.values\n",
    "#plt.figure(figsize=(4, 2))\n",
    "# Create a horizontal bar chart\n",
    "fig, ax = plt.subplots(figsize=(6, 4))\n",
    "ax.set_xlabel('Average Price x night', fontsize=1)\n",
    "ax.set_ylabel('Neighbourhood Group ', fontsize=2)\n",
    "\n",
    "# Plot horizontal bars with grey color\n",
    "ax.barh(x, y)\n",
    "ax.tick_params(axis='both', which='major', labelsize=10)\n",
    "# Display the plot\n",
    "plt.show()\n",
    "plt.show()"
   ]
  },
  {
   "cell_type": "code",
   "execution_count": null,
   "id": "78f9c56a-d6b4-45ab-bc40-d5a451f515cb",
   "metadata": {},
   "outputs": [],
   "source": [
    "how can i do dthe same but with different lines accrross the plot, so y want the months y the x , the number of listings in the y, and then a diferent line accross for every year\n",
    "\n",
    "\n",
    "frequency = df4['listed_month'].value_counts().sort_index()  # Sort by year for a chronological plot\n",
    "x = frequency.index.to_list()\n",
    "y = list(frequency.values)\n",
    "\n",
    "fig, ax = plt.subplots()\n",
    "ax.set_ylabel('number of listings')\n",
    "ax.set_xlabel('months')\n",
    "ax.set_title('Evolution of listigns across the months of the year')\n",
    "# Change from bar to plot for a line graph\n",
    "ax.plot(x, y, marker='o')  # Using markers to highlight data points\n",
    "\n",
    "#enter ellos 1200 "
   ]
  },
  {
   "cell_type": "code",
   "execution_count": 4,
   "id": "3baa4b24-866b-4340-9cf3-5a27f51eacf5",
   "metadata": {},
   "outputs": [
    {
     "ename": "SyntaxError",
     "evalue": "invalid syntax (3827999636.py, line 1)",
     "output_type": "error",
     "traceback": [
      "\u001b[0;36m  Cell \u001b[0;32mIn[4], line 1\u001b[0;36m\u001b[0m\n\u001b[0;31m    fix this:\u001b[0m\n\u001b[0m        ^\u001b[0m\n\u001b[0;31mSyntaxError\u001b[0m\u001b[0;31m:\u001b[0m invalid syntax\n"
     ]
    }
   ],
   "source": [
    "fix this:\n",
    "\n",
    "neighbourhood_df = df8.groupby('area').agg(\n",
    "    number_of_listings=('id', 'size'),\n",
    "    average_price=('price', 'mean')  # Fixed the aggregation function here\n",
    ").reset_index()\n",
    "\n",
    "# Set the area column as the index\n",
    "neighbourhood_df.set_index('area', inplace=True)\n",
    "\n",
    "# Sort the DataFrame by average_price\n",
    "neighbourhood_df_sorted = neighbourhood_df.sort_values('average_price', ascending=False)\n",
    "\n",
    "# Plot number of listings and median price in one bar plot\n",
    "plt.rcParams['font.size'] = 15\n",
    "plt.rcParams['figure.figsize'] = 15,5\n",
    "\n",
    "fig, ax1 = plt.subplots()\n",
    "\n",
    "# Plot number of listings as bar plot\n",
    "neighbourhood_df_sorted['total_tourist_attractions'].plot(kind='bar', ax=ax1, position=0, width=0.4, color='darkgrey', label='total_tourist_attractions')\n",
    "\n",
    "# Create a second y-axis for the average price\n",
    "ax2 = ax1.twinx()\n",
    "neighbourhood_df_sorted['average_price'].plot(kind='bar', ax=ax2, position=1, width=0.4, color='lightgrey', label='Average Price')\n",
    "\n",
    "# Set the labels and title\n",
    "ax1.set_xlabel('Area')\n",
    "ax1.set_ylabel('Number of tourist  attractions', color='black')\n",
    "ax2.set_ylabel('Average Price', color='black')\n",
    "ax1.set_xticklabels(neighbourhood_df_sorted.index, rotation=90)\n",
    "plt.title('Number of Tourist attractions and Average Price by Area')\n",
    "\n",
    "# Combine legends\n",
    "lines_1, labels_1 = ax1.get_legend_handles_labels()\n",
    "lines_2, labels_2 = ax2.get_legend_handles_labels()\n",
    "ax1.legend(lines_1 + lines_2, labels_1 + labels_2, loc='lower left', bbox_to_anchor=(2, 1))\n",
    "\n",
    "plt.show()"
   ]
  },
  {
   "cell_type": "code",
   "execution_count": null,
   "id": "f9391dfd-43fd-4912-a3db-0b7242c1595b",
   "metadata": {},
   "outputs": [],
   "source": []
  }
 ],
 "metadata": {
  "kernelspec": {
   "display_name": "venv",
   "language": "python",
   "name": "venv"
  },
  "language_info": {
   "codemirror_mode": {
    "name": "ipython",
    "version": 3
   },
   "file_extension": ".py",
   "mimetype": "text/x-python",
   "name": "python",
   "nbconvert_exporter": "python",
   "pygments_lexer": "ipython3",
   "version": "3.11.7"
  }
 },
 "nbformat": 4,
 "nbformat_minor": 5
}
