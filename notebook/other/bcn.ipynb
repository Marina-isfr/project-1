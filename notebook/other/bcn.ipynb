{
 "cells": [
  {
   "cell_type": "code",
   "execution_count": 7,
   "id": "f412ea10-7452-4913-b0ab-484988ffb12b",
   "metadata": {
    "tags": []
   },
   "outputs": [
    {
     "name": "stderr",
     "output_type": "stream",
     "text": [
      "/var/folders/yl/d5x0r6t10l52bms12sy70rzc0000gn/T/ipykernel_90959/1820130592.py:6: DtypeWarning: Columns (27) have mixed types. Specify dtype option on import or set low_memory=False.\n",
      "  bcn_df = pd.read_csv ('../data/raw/barcelona_listings_kagel.csv')\n"
     ]
    },
    {
     "name": "stdout",
     "output_type": "stream",
     "text": [
      "Understanding the data set\n",
      "The number of rows al columns in the original data set is:  (19833, 62)\n",
      "The list of columns in the original data set is:  Index(['id', 'listing_url', 'name', 'summary', 'space', 'description',\n",
      "       'neighborhood_overview', 'access', 'picture_url', 'host_id', 'host_url',\n",
      "       'host_name', 'host_since', 'host_response_time', 'host_response_rate',\n",
      "       'host_is_superhost', 'host_picture_url', 'host_neighbourhood',\n",
      "       'host_listings_count', 'host_verifications', 'host_has_profile_pic',\n",
      "       'host_identity_verified', 'street', 'neighbourhood',\n",
      "       'neighbourhood_cleansed', 'neighbourhood_group_cleansed', 'city',\n",
      "       'zipcode', 'country', 'latitude', 'longitude', 'is_location_exact',\n",
      "       'property_type', 'room_type', 'accommodates', 'bathrooms', 'bedrooms',\n",
      "       'beds', 'amenities', 'square_feet', 'price', 'cleaning_fee',\n",
      "       'minimum_nights', 'maximum_nights', 'has_availability',\n",
      "       'availability_30', 'availability_60', 'availability_90',\n",
      "       'availability_365', 'number_of_reviews', 'number_of_reviews_ltm',\n",
      "       'first_review', 'last_review', 'review_scores_rating',\n",
      "       'review_scores_accuracy', 'review_scores_cleanliness',\n",
      "       'review_scores_checkin', 'review_scores_communication',\n",
      "       'review_scores_location', 'review_scores_value', 'instant_bookable',\n",
      "       'reviews_per_month'],\n",
      "      dtype='object')\n",
      "<class 'pandas.core.frame.DataFrame'>\n",
      "RangeIndex: 19833 entries, 0 to 19832\n",
      "Data columns (total 62 columns):\n",
      " #   Column                        Non-Null Count  Dtype  \n",
      "---  ------                        --------------  -----  \n",
      " 0   id                            19833 non-null  int64  \n",
      " 1   listing_url                   19833 non-null  object \n",
      " 2   name                          19816 non-null  object \n",
      " 3   summary                       18823 non-null  object \n",
      " 4   space                         14599 non-null  object \n",
      " 5   description                   19472 non-null  object \n",
      " 6   neighborhood_overview         13039 non-null  object \n",
      " 7   access                        10704 non-null  object \n",
      " 8   picture_url                   19833 non-null  object \n",
      " 9   host_id                       19833 non-null  int64  \n",
      " 10  host_url                      19833 non-null  object \n",
      " 11  host_name                     19799 non-null  object \n",
      " 12  host_since                    19799 non-null  object \n",
      " 13  host_response_time            17315 non-null  object \n",
      " 14  host_response_rate            17315 non-null  object \n",
      " 15  host_is_superhost             19799 non-null  object \n",
      " 16  host_picture_url              19799 non-null  object \n",
      " 17  host_neighbourhood            15953 non-null  object \n",
      " 18  host_listings_count           19799 non-null  float64\n",
      " 19  host_verifications            19799 non-null  object \n",
      " 20  host_has_profile_pic          19799 non-null  object \n",
      " 21  host_identity_verified        19799 non-null  object \n",
      " 22  street                        19833 non-null  object \n",
      " 23  neighbourhood                 19823 non-null  object \n",
      " 24  neighbourhood_cleansed        19833 non-null  object \n",
      " 25  neighbourhood_group_cleansed  19833 non-null  object \n",
      " 26  city                          19829 non-null  object \n",
      " 27  zipcode                       19229 non-null  object \n",
      " 28  country                       19833 non-null  object \n",
      " 29  latitude                      19833 non-null  float64\n",
      " 30  longitude                     19833 non-null  float64\n",
      " 31  is_location_exact             19833 non-null  object \n",
      " 32  property_type                 19833 non-null  object \n",
      " 33  room_type                     19833 non-null  object \n",
      " 34  accommodates                  19833 non-null  int64  \n",
      " 35  bathrooms                     19824 non-null  float64\n",
      " 36  bedrooms                      19830 non-null  float64\n",
      " 37  beds                          19799 non-null  float64\n",
      " 38  amenities                     19833 non-null  object \n",
      " 39  square_feet                   524 non-null    float64\n",
      " 40  price                         19833 non-null  object \n",
      " 41  cleaning_fee                  15764 non-null  object \n",
      " 42  minimum_nights                19833 non-null  int64  \n",
      " 43  maximum_nights                19833 non-null  int64  \n",
      " 44  has_availability              19833 non-null  object \n",
      " 45  availability_30               19833 non-null  int64  \n",
      " 46  availability_60               19833 non-null  int64  \n",
      " 47  availability_90               19833 non-null  int64  \n",
      " 48  availability_365              19833 non-null  int64  \n",
      " 49  number_of_reviews             19833 non-null  int64  \n",
      " 50  number_of_reviews_ltm         19833 non-null  int64  \n",
      " 51  first_review                  15215 non-null  object \n",
      " 52  last_review                   15215 non-null  object \n",
      " 53  review_scores_rating          14986 non-null  float64\n",
      " 54  review_scores_accuracy        14978 non-null  float64\n",
      " 55  review_scores_cleanliness     14978 non-null  float64\n",
      " 56  review_scores_checkin         14973 non-null  float64\n",
      " 57  review_scores_communication   14982 non-null  float64\n",
      " 58  review_scores_location        14975 non-null  float64\n",
      " 59  review_scores_value           14976 non-null  float64\n",
      " 60  instant_bookable              19833 non-null  object \n",
      " 61  reviews_per_month             15215 non-null  float64\n",
      "dtypes: float64(15), int64(11), object(36)\n",
      "memory usage: 9.4+ MB\n",
      "The number of rows al columns in the original data set is:  None\n"
     ]
    },
    {
     "data": {
      "text/plain": [
       "62"
      ]
     },
     "execution_count": 7,
     "metadata": {},
     "output_type": "execute_result"
    }
   ],
   "source": [
    "import numpy as np\n",
    "import pandas as pd\n",
    "import matplotlib.pyplot as plt\n",
    "import os\n",
    "\n",
    "bcn_df = pd.read_csv ('../data/raw/barcelona_listings_kagel.csv')\n",
    "#print(bcn_df) # 19k rows  106 cols\n",
    "print ('Understanding the data set')\n",
    "print('The number of rows al columns in the original data set is: ',bcn_df.shape)\n",
    "print('The list of columns in the original data set is: ',bcn_df.columns)\n",
    "#bcn_df.columns\n",
    "print('The number of rows al columns in the original data set is: ', bcn_df.info())\n",
    "bcn_df.head()\n",
    "\n",
    "bcn_df.columns.nunique()"
   ]
  },
  {
   "cell_type": "code",
   "execution_count": 5,
   "id": "4e9327e4-01a7-43bd-8cf9-298b220a3533",
   "metadata": {
    "tags": []
   },
   "outputs": [
    {
     "data": {
      "text/plain": [
       "Index(['id', 'listing_url', 'name', 'space', 'description',\n",
       "       'neighborhood_overview', 'access', 'picture_url', 'host_id', 'host_url',\n",
       "       'host_name', 'host_since', 'host_response_time', 'host_response_rate',\n",
       "       'host_is_superhost', 'host_picture_url', 'host_neighbourhood',\n",
       "       'host_listings_count', 'host_verifications', 'host_has_profile_pic',\n",
       "       'host_identity_verified', 'street', 'neighbourhood',\n",
       "       'neighbourhood_cleansed', 'neighbourhood_group_cleansed', 'city',\n",
       "       'zipcode', 'country', 'latitude', 'longitude', 'is_location_exact',\n",
       "       'property_type', 'room_type', 'accommodates', 'bathrooms', 'bedrooms',\n",
       "       'beds', 'amenities', 'square_feet', 'price', 'cleaning_fee',\n",
       "       'minimum_nights', 'maximum_nights', 'has_availability',\n",
       "       'availability_30', 'availability_60', 'availability_90',\n",
       "       'availability_365', 'number_of_reviews', 'number_of_reviews_ltm',\n",
       "       'first_review', 'last_review', 'review_scores_rating',\n",
       "       'review_scores_accuracy', 'review_scores_cleanliness',\n",
       "       'review_scores_checkin', 'review_scores_communication',\n",
       "       'review_scores_location', 'review_scores_value', 'instant_bookable',\n",
       "       'reviews_per_month'],\n",
       "      dtype='object')"
      ]
     },
     "execution_count": 5,
     "metadata": {},
     "output_type": "execute_result"
    }
   ],
   "source": [
    "# columns that we dont need: 'listing_url' , 'summary', 'picture_url', 'host_name', host_url\n",
    "#bcn_df['country'].unique()) #there irs only spain delete column\n",
    "#columns_to_delete = ['listing_url','summary','picture_url','host_name','host_url','country' ]  \n",
    "columns_to_delete = ['summary']\n",
    "bcn_df.drop(columns=columns_to_delete, inplace=True)\n",
    "bcn_df.columns"
   ]
  },
  {
   "cell_type": "code",
   "execution_count": null,
   "id": "75839465-b78f-4a77-9199-6b6274533bf2",
   "metadata": {
    "tags": []
   },
   "outputs": [],
   "source": [
    "# columns that we dont need: 'listing_url' , 'summary', 'picture_url', 'host_name', host_url\n",
    "#bcn_df['country'].unique()) #there irs only spain delete column\n",
    "columns_to_delete = ['listing_url','summary','picture_url','host_name','host_url','country' ]  \n",
    "bcn_df.drop(columns=columns_to_delete, inplace=True)\n",
    "bcn_df.columns\n",
    "# last review data formatting\n",
    "\n",
    "# We're just analizing the city of Barcelona, so check for unique values\n",
    "#print(bcn_df['city'].unique())\n",
    "#Delete all entries for areas that are not barcelona, and convert all the Barcelonas wrtitten differently\n",
    "#lowercase,  drop entries written in chinesse or rusian"
   ]
  },
  {
   "cell_type": "code",
   "execution_count": null,
   "id": "fc16f491-f9ee-4826-9ba0-3c298449919e",
   "metadata": {
    "tags": []
   },
   "outputs": [],
   "source": [
    "#null values accrossa whole row\n",
    "#rows_with_nulls = bcn2_df.isnull().any(axis=1)\n",
    "#print(bcn2_df[rows_with_nulls])\n",
    "\n",
    "#rows_all_null = bcn2_df.isnull().all(axis=1)\n",
    "#print(bcn2_df[rows_all_null])\n",
    "\n",
    "#rows_all_null = bcn2_df.isnull().all(axis=1)\n",
    "#print(bcn2_df[rows_all_null])"
   ]
  },
  {
   "cell_type": "code",
   "execution_count": null,
   "id": "0ccfb2bc-07eb-4d3d-b292-4bbdf4c4f3a0",
   "metadata": {
    "tags": []
   },
   "outputs": [],
   "source": [
    "# host since arreglar data format, ver la evolucion por años grafica\n",
    "# for nul vaules in price  the average per neighborhood\n",
    "#  cuantos  apart tiene una msima persona lista de ls que mas\n",
    "\n",
    "#free_listings = bcn_df[\"price\"] == 0"
   ]
  },
  {
   "cell_type": "code",
   "execution_count": null,
   "id": "c7fe59de-7049-42e7-bba9-06c149955882",
   "metadata": {
    "tags": []
   },
   "outputs": [],
   "source": [
    "# Convert the 'date' column to datetime\n",
    "#bcn_df['date'] = pd.to_datetime(bcn_df['host_since'], errors='coerce')"
   ]
  },
  {
   "cell_type": "code",
   "execution_count": null,
   "id": "6ba51a7b-be87-4881-a820-c9281e9a8307",
   "metadata": {
    "tags": []
   },
   "outputs": [],
   "source": [
    "#bcn_df.isna().any()\n",
    "\n",
    "#rows_all_null = bcn_df.isna().all(axis=1)\n",
    "\n",
    "# Display these rows\n",
    "#print(\"Rows where all values are NaN:\\n\", bcn_df[rows_all_null])\n",
    "\n",
    "# Adjust pandas display options to show all rows and columns\n",
    "#pd.set_option('display.max_rows', None)\n",
    "#pd.set_option('display.max_columns', None)\n",
    "\n",
    "# Print the entire DataFrame (or a relevant part)\n",
    "#print(\"Entire DataFrame:\\n\", bcn_df)\n",
    "\n",
    "# Reset display options to default if needed\n",
    "#pd.reset_option('display.max_rows')\n",
    "#pd.reset_option('display.max_columns')"
   ]
  },
  {
   "cell_type": "code",
   "execution_count": null,
   "id": "3f749df0-147a-4e8c-b089-335d085859b7",
   "metadata": {},
   "outputs": [],
   "source": [
    "#zipcode should be numerical an integer , write code then check for nul values\n",
    "print(bcn_df['zipcode'].unique())\n",
    "['8026' '8025' '8018' '8012' '8024' '8029' '8002' '8036' '8003' '8009'\n",
    " '8004' '8013' '8007' '8001' '8035' '8010' '8005' '8011' '8017' '8037'\n",
    " '8014' '8019' '8034' '8041' '8031' '8006' '8023' '8021' '8020' '8015' nan\n",
    " '8008' '8028' '8027' '8016' '8022' '8038' '8033' '8032' '8042' '8030'\n",
    " '8000' '8903' '.' '08019\\n08019' '08014\\n08028' '2015' '8902' '8937'\n",
    " '8930' '08013\\n08013' '8039' '0' '92134' '8290' '28013' '2024' '80001'\n",
    " '8904' '80020' '9' 'O8001' '0.08029' '806' 'barcelona' '13-08008'\n",
    " '0.08002' '2335' '4008009' 8041.0 8007.0 8016.0 8027.0 8004.0 8024.0\n",
    " 8003.0 8006.0 8011.0 8025.0 8015.0 8017.0 8036.0 8018.0 8001.0 8028.0\n",
    " 8023.0 8014.0 8005.0 8012.0 8030.0 8010.0 8013.0 8029.0 8020.0 8002.0\n",
    " 8026.0 8038.0 8008.0 8019.0 0.0 8034.0 8033.0 8037.0 8032.0 8009.0 8021.0\n",
    " 8035.0 8042.0 8031.0 8039.0 8022.0]"
   ]
  },
  {
   "cell_type": "code",
   "execution_count": null,
   "id": "04298302-cd69-4394-b0ef-0e25a555e4f5",
   "metadata": {},
   "outputs": [],
   "source": [
    "for the remaining  null in columns:\n",
    "null_zipcode_count = bcn_df['zipcode'].isnull().sum()\n",
    "\n",
    "you have to sustitute the null for the same value that for the column neighbourhood_cleansed has a correct zipcode in the rest of the df, so by neighbourhood_cleansed will find the zip-code for the null ones"
   ]
  },
  {
   "cell_type": "code",
   "execution_count": null,
   "id": "ba9fd88d-995f-4e3d-95f6-f2d77be64efc",
   "metadata": {},
   "outputs": [],
   "source": [
    "do the same but horizontically, and adding code to change the size\n",
    "\n",
    "#x = list(grouped_location['Year'].index.values)\n",
    "#y = grouped_location['Year'].iloc[:, 0].value_counts().index.to_list()\n",
    "X_axis = np.arange(len(x))\n",
    "\n",
    "plt.bar(X_axis - 0.4, y1, 0.2, label = 'fall')\n",
    "plt.bar(X_axis - 0.2, y2, 0.2, label = 'spring')\n",
    "plt.bar(X_axis + 0.0, y3, 0.2, label = 'summer')\n",
    "plt.bar(X_axis + 0.2, y4, 0.2, label = 'winter')\n",
    "\n",
    "#ax.set_xticklabels(x,rotation=45)\n",
    "plt.xticks(X_axis, x)\n",
    "plt.xlabel(\"County\")\n",
    "plt.ylabel(\"Total number of incidents\")\n",
    "\n",
    "plt.legend()\n",
    "plt.show()"
   ]
  },
  {
   "cell_type": "code",
   "execution_count": null,
   "id": "72f186be-e08c-4023-abd5-f02e02cc9e54",
   "metadata": {},
   "outputs": [],
   "source": [
    "how will you do like the same thing than below but instead of a barplot a line like a line in the time\n",
    "frequency = bcn_df['host_since_year'].value_counts()\n",
    "x = frequency.index.to_list()\n",
    "y = list(frequency.values)\n",
    "fig, ax = plt.subplots()\n",
    "ax.set_ylabel('id')\n",
    "ax.set_xlabel('host_since_year')\n",
    "plt.bar(x,y)\n",
    "plt.show()"
   ]
  },
  {
   "cell_type": "code",
   "execution_count": null,
   "id": "f46bc3c0-316e-4b7b-9ca3-e95ce6267b8f",
   "metadata": {
    "tags": []
   },
   "outputs": [],
   "source": [
    "#we have the column bes and the column beedroom , i ned to add a new column that calculates the ratio of beds per bedroom, and that info goes in a nwe column called beds_ratio\n",
    "\n",
    "\n",
    "# Calculate the ratio of beds per bedroom and store it in a new column\n",
    "bcn_df['beds_ratio'] = bcn_df['beds'] / bcn_df['bedrooms']\n",
    "\n",
    "# Show the updated DataFrame\n",
    "#print(bcn_df.head())\n",
    "#print(bcn_df['beds_ratio'].unique())\n",
    "\n",
    "bcn_df['beds_ratio'] = (bcn_df['beds'] / bcn_df['bedrooms']).round(2)\n",
    "\n",
    "# Replace 'inf' values with NaN\n",
    "bcn_df['beds_ratio'] = bcn_df['beds_ratio'].replace(np.inf, np.nan).round(2)\n",
    "\n",
    "# Fill NaN values in 'beds_ratio' column with the mean value of the corresponding 'neighbourhood_cleansed'\n",
    "bcn_df['beds_ratio'] = bcn_df.groupby('neighbourhood_cleansed')['beds_ratio'].transform(lambda x: x.fillna(x.mean().round(2)))\n",
    "\n",
    "# Show unique values in the 'beds_ratio' column\n",
    "print(bcn_df['beds_ratio'].unique())\n",
    "\n",
    "#after calculating the ratio it mus be in all cases an intiger (2 decimlas). Then for null values, fill the null value looking at the average value in the column neighbourhood_cleansed, so for each neighbourhood_cleansed with a null give the average for the same neighbourhood_cleansed  "
   ]
  },
  {
   "cell_type": "code",
   "execution_count": null,
   "id": "ed02275c-253e-4829-b9da-98fe6edc821a",
   "metadata": {},
   "outputs": [],
   "source": [
    "the following columns need to be converted into integers\n",
    "\n",
    "\n",
    "35  bathrooms                     19824 non-null  float64\n",
    " 36  bedrooms                      19830 non-null  float64\n",
    " 37  beds                          19799 non-null  float64"
   ]
  }
 ],
 "metadata": {
  "kernelspec": {
   "display_name": "venv",
   "language": "python",
   "name": "venv"
  },
  "language_info": {
   "codemirror_mode": {
    "name": "ipython",
    "version": 3
   },
   "file_extension": ".py",
   "mimetype": "text/x-python",
   "name": "python",
   "nbconvert_exporter": "python",
   "pygments_lexer": "ipython3",
   "version": "3.11.7"
  }
 },
 "nbformat": 4,
 "nbformat_minor": 5
}
